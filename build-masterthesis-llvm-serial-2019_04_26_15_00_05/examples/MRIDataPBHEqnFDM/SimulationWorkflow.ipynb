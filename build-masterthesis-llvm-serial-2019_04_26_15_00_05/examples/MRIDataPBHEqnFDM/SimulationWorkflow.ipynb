{
 "cells": [
  {
   "cell_type": "code",
   "execution_count": 110,
   "metadata": {},
   "outputs": [],
   "source": [
    "from startSimulation import *\n",
    "import postProcessing\n",
    "import matplotlib.pyplot as plt\n",
    "%matplotlib inline  "
   ]
  },
  {
   "cell_type": "code",
   "execution_count": 108,
   "metadata": {},
   "outputs": [
    {
     "name": "stdout",
     "output_type": "stream",
     "text": [
      "Parsing PARAMETERS.INI.\n",
      "Done.\n",
      "Checking variables.\n",
      "* WARNING: CHECK_CONV_FIRST_AT_ITER < 1.\n",
      "  CHECK_CONV_FIRST_AT_ITER is assumend to be a ratio.\n",
      "* WARNING: CHECK_CONV_AT_EVERY_N_ITER < 1.\n",
      "  CHECK_CONV_AT_EVERY_N_ITER is assumend to be a ratio.\n",
      "Done.\n",
      "Calculating variables.\n",
      "* WARNING: N_TIMESTEPS not specified.\n",
      "  Calculate N_TIMESTEPS from stability criterion.\n",
      "Done.\n",
      "Checking stability.\n",
      "Done.\n",
      "Creating region.nc.\n",
      "Done.\n",
      "Creating init.nc.\n",
      "Done.\n",
      "Setting environment variables.\n",
      "Done.\n"
     ]
    }
   ],
   "source": [
    "params = {'NAME_CONFIGFILE' : ''}\n",
    "params['NAME_RESULTFILE'] = ''\n",
    "\n",
    "params['NAME_CONFIGFILE'] = 'PARAMETERS.INI'\n",
    "run_script = 'RUN_HELPER.sh'\n",
    "\n",
    "parse_config_file(params)\n",
    "check_variables(params)\n",
    "calc_variables(params)\n",
    "check_stability(params)\n",
    "if params['USE_MRI_FILE'] == False:\n",
    "    create_region_file(params)\n",
    "create_init_file(params)\n",
    "set_environment_variables(params)"
   ]
  },
  {
   "cell_type": "markdown",
   "metadata": {},
   "source": [
    "Start simulation"
   ]
  },
  {
   "cell_type": "code",
   "execution_count": 109,
   "metadata": {},
   "outputs": [
    {
     "name": "stdout",
     "output_type": "stream",
     "text": [
      "Searchpath ./MRIDataPBHEqnFDM3D_PARAMETERS_*.nc\n",
      "['./MRIDataPBHEqnFDM3D_PARAMETERS_1_1_120x120x50.nc']\n",
      "Starting MRIDataPBHEqnFDM3D.\n",
      "\n",
      "\n",
      "Done.\n",
      "['./MRIDataPBHEqnFDM3D_PARAMETERS_1_1_120x120x50.nc']\n",
      "./MRIDataPBHEqnFDM3D_PARAMETERS_1_1_120x120x50.nc\n"
     ]
    }
   ],
   "source": [
    "pResults = call_simulation(params, run_script)"
   ]
  },
  {
   "cell_type": "markdown",
   "metadata": {},
   "source": [
    "Load simulated data cube into python"
   ]
  },
  {
   "cell_type": "code",
   "execution_count": 111,
   "metadata": {},
   "outputs": [
    {
     "name": "stdout",
     "output_type": "stream",
     "text": [
      "Read ./MRIDataPBHEqnFDM3D_PARAMETERS_1_1_120x120x50.nc.\n"
     ]
    }
   ],
   "source": [
    "temperatures = postProcessing.temperature_array_from_result(params['NAME_RESULTFILE'])"
   ]
  },
  {
   "cell_type": "code",
   "execution_count": 112,
   "metadata": {},
   "outputs": [
    {
     "data": {
      "image/png": "[encoded data removed]",
      "text/plain": [
       "<Figure size 432x288 with 1 Axes>"
      ]
     },
     "metadata": {
      "needs_background": "light"
     },
     "output_type": "display_data"
    }
   ],
   "source": [
    "plt.imshow(temperatures[:,60,:], vmin=33, vmax=36.6)\n",
    "plt.show()"
   ]
  },
  {
   "cell_type": "code",
   "execution_count": 113,
   "metadata": {},
   "outputs": [
    {
     "data": {
      "image/png": "[encoded data removed]",
      "text/plain": [
       "<Figure size 432x288 with 1 Axes>"
      ]
     },
     "metadata": {
      "needs_background": "light"
     },
     "output_type": "display_data"
    }
   ],
   "source": [
    "plt.imshow(temperatures[-1,40:83,40:80], vmin=34, vmax=36)\n",
    "plt.show()"
   ]
  },
  {
   "cell_type": "code",
   "execution_count": 114,
   "metadata": {},
   "outputs": [],
   "source": [
    "tumor = postProcessing.region_array_from_file(params['NAME_REGION_FILE'])\n",
    "initFile = postProcessing.array_from_file('./init', 'omega')"
   ]
  },
  {
   "cell_type": "code",
   "execution_count": 115,
   "metadata": {},
   "outputs": [
    {
     "data": {
      "image/png": "[encoded data removed]",
      "text/plain": [
       "<Figure size 432x288 with 1 Axes>"
      ]
     },
     "metadata": {
      "needs_background": "light"
     },
     "output_type": "display_data"
    }
   ],
   "source": [
    "plt.imshow(tumor[30,:,:])\n",
    "plt.show()"
   ]
  },
  {
   "cell_type": "code",
   "execution_count": 116,
   "metadata": {},
   "outputs": [
    {
     "data": {
      "image/png": "[encoded data removed]",
      "text/plain": [
       "<Figure size 432x288 with 1 Axes>"
      ]
     },
     "metadata": {
      "needs_background": "light"
     },
     "output_type": "display_data"
    }
   ],
   "source": [
    "plt.imshow(initFile[30,:,:])\n",
    "plt.show()"
   ]
  },
  {
   "cell_type": "code",
   "execution_count": 117,
   "metadata": {},
   "outputs": [
    {
     "data": {
      "text/plain": [
       "{'RHO': 1040.0,\n",
       " 'C': 3650.0,\n",
       " 'LAMBDA': 0.6,\n",
       " 'RHO_BLOOD': 1052.0,\n",
       " 'C_BLOOD': 3800.0,\n",
       " 'OMEGA': 0.00975,\n",
       " 'T_BLOOD': 35.0,\n",
       " 'Q': 25000.0,\n",
       " 'T': 37.0}"
      ]
     },
     "execution_count": 117,
     "metadata": {},
     "output_type": "execute_result"
    }
   ],
   "source": [
    "params['TUMOR']"
   ]
  },
  {
   "cell_type": "code",
   "execution_count": 118,
   "metadata": {},
   "outputs": [
    {
     "data": {
      "text/plain": [
       "{'RHO': 1040.0,\n",
       " 'C': 3650.0,\n",
       " 'LAMBDA': 0.6,\n",
       " 'RHO_BLOOD': 1052.0,\n",
       " 'C_BLOOD': 3800.0,\n",
       " 'OMEGA': 0.004,\n",
       " 'T_BLOOD': 35.0,\n",
       " 'Q': 25000.0,\n",
       " 'T': 37.0}"
      ]
     },
     "execution_count": 118,
     "metadata": {},
     "output_type": "execute_result"
    }
   ],
   "source": [
    "params['BRAIN']"
   ]
  },
  {
   "cell_type": "markdown",
   "metadata": {},
   "source": [
    "# Some evaluations"
   ]
  },
  {
   "cell_type": "code",
   "execution_count": 119,
   "metadata": {},
   "outputs": [
    {
     "name": "stdout",
     "output_type": "stream",
     "text": [
      "\n",
      "Calc tumor temperatures near surface of ./MRIDataPBHEqnFDM3D_PARAMETERS_1_1_120x120x50.nc.\n",
      "Read ./MRIDataPBHEqnFDM3D_PARAMETERS_1_1_120x120x50.nc.\n",
      "Mean temp of tumor near surface (first 10 nodes): 35.670.\n",
      "Max temp of tumor near surface (first 10 nodes): 36.019.\n",
      "Min temp of tumor near surface (first 10 nodes): 35.128.\n",
      "Std dev temp of tumor near surface (first 10 nodes): 0.1630.\n",
      "Write results to ./MRIDataPBHEqnFDM3D_PARAMETERS_1_1_120x120x50_results.dat.\n",
      "Done.\n",
      "\n",
      "Calc brain temperatures of ./MRIDataPBHEqnFDM3D_PARAMETERS_1_1_120x120x50.nc.\n",
      "Read ./MRIDataPBHEqnFDM3D_PARAMETERS_1_1_120x120x50.nc.\n",
      "Mean temp of brain: 36.519.\n",
      "Max temp of brain: 36.565.\n",
      "Min temp of brain: 34.296.\n",
      "Std dev temp of brain: 0.1696.\n",
      "Write results to ./MRIDataPBHEqnFDM3D_PARAMETERS_1_1_120x120x50_results.dat.\n",
      "Done.\n",
      "\n",
      "Calc domain temperatures of ./MRIDataPBHEqnFDM3D_PARAMETERS_1_1_120x120x50.nc.\n",
      "Read ./MRIDataPBHEqnFDM3D_PARAMETERS_1_1_120x120x50.nc.\n",
      "Mean temp of domain: 36.487.\n",
      "Max temp of domain: 36.565.\n",
      "Min temp of domain: 34.296.\n",
      "Std dev temp of domain: 0.2248.\n",
      "Write results to ./MRIDataPBHEqnFDM3D_PARAMETERS_1_1_120x120x50_results.dat.\n",
      "Done.\n"
     ]
    },
    {
     "data": {
      "text/plain": [
       "36.487352063857145"
      ]
     },
     "execution_count": 119,
     "metadata": {},
     "output_type": "execute_result"
    }
   ],
   "source": [
    "T_tumor = tumor_near_surface_temperatures(params['NAME_RESULTFILE'],\n",
    "                                          params['NAME_REGION_FILE'])\n",
    "brain_temperatures(params['NAME_RESULTFILE'],\n",
    "                   params['NAME_REGION_FILE'])\n",
    "domain_temperatures(params['NAME_RESULTFILE'])"
   ]
  },
  {
   "cell_type": "code",
   "execution_count": 120,
   "metadata": {},
   "outputs": [
    {
     "data": {
      "text/plain": [
       "32.8"
      ]
     },
     "execution_count": 120,
     "metadata": {},
     "output_type": "execute_result"
    }
   ],
   "source": [
    "params['T_NORMAL']"
   ]
  },
  {
   "cell_type": "code",
   "execution_count": 121,
   "metadata": {},
   "outputs": [
    {
     "data": {
      "text/plain": [
       "30.0"
      ]
     },
     "execution_count": 121,
     "metadata": {},
     "output_type": "execute_result"
    }
   ],
   "source": [
    "params['T_TUMOR']"
   ]
  },
  {
   "cell_type": "code",
   "execution_count": 122,
   "metadata": {},
   "outputs": [
    {
     "data": {
      "text/plain": [
       "34.5"
      ]
     },
     "execution_count": 122,
     "metadata": {},
     "output_type": "execute_result"
    }
   ],
   "source": [
    "params['T_VESSEL']"
   ]
  }
 ],
 "metadata": {
  "kernelspec": {
   "display_name": "Python 3",
   "language": "python",
   "name": "python3"
  },
  "language_info": {
   "codemirror_mode": {
    "name": "ipython",
    "version": 3
   },
   "file_extension": ".py",
   "mimetype": "text/x-python",
   "name": "python",
   "nbconvert_exporter": "python",
   "pygments_lexer": "ipython3",
   "version": "3.6.5"
  }
 },
 "nbformat": 4,
 "nbformat_minor": 2
}
